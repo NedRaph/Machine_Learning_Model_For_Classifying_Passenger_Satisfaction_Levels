{
 "cells": [
  {
   "cell_type": "markdown",
   "id": "cfc508b7",
   "metadata": {},
   "source": [
    "## Model Trainer\n",
    "### Steps\n",
    "- Feature Selection\n",
    "- Feature Engineering\n",
    "- Categorical encoding\n",
    "- Feature Scaling\n",
    "- Splitting dataset"
   ]
  },
  {
   "cell_type": "code",
   "execution_count": 1,
   "id": "2ffe9981",
   "metadata": {},
   "outputs": [],
   "source": [
    "import pandas as pd\n",
    "import numpy as np\n",
    "import seaborn as sns\n",
    "import matplotlib.pyplot as plt\n",
    "# Modelling\n",
    "from sklearn.model_selection import train_test_split\n",
    "from sklearn.preprocessing import OneHotEncoder, StandardScaler\n",
    "from sklearn.compose import ColumnTransformer\n",
    "from sklearn.pipeline import Pipeline\n",
    "from sklearn.metrics import classification_report, confusion_matrix\n",
    "from sklearn.linear_model import LogisticRegression\n",
    "from sklearn.tree import DecisionTreeClassifier\n",
    "from sklearn.ensemble import RandomForestClassifier, GradientBoostingClassifier\n",
    "from sklearn.naive_bayes import GaussianNB\n",
    "from sklearn.impute import SimpleImputer\n",
    "import seaborn as sns\n",
    "import matplotlib.pyplot as plt\n"
   ]
  },
  {
   "cell_type": "markdown",
   "id": "f38ffe18",
   "metadata": {},
   "source": [
    "#### Import the csv data as pandas dataframe"
   ]
  },
  {
   "cell_type": "code",
   "execution_count": 10,
   "id": "ef39ca1e",
   "metadata": {},
   "outputs": [
    {
     "name": "stdout",
     "output_type": "stream",
     "text": [
      "<class 'pandas.core.frame.DataFrame'>\n",
      "RangeIndex: 19800 entries, 0 to 19799\n",
      "Data columns (total 13 columns):\n",
      " #   Column                 Non-Null Count  Dtype  \n",
      "---  ------                 --------------  -----  \n",
      " 0   Trip ID                19800 non-null  object \n",
      " 1   User ID                19800 non-null  object \n",
      " 2   Destination            19800 non-null  object \n",
      " 3   Departure Date         19800 non-null  object \n",
      " 4   Return Date            19800 non-null  object \n",
      " 5   Travel Type            19800 non-null  object \n",
      " 6   Transportation Mode    19800 non-null  object \n",
      " 7   Hotel Rating           19800 non-null  int64  \n",
      " 8   Total Cost ($)         19800 non-null  float64\n",
      " 9   Customer_Satisfaction  19800 non-null  float64\n",
      " 10  Satisfaction_level     19800 non-null  object \n",
      " 11  Departure Month        19800 non-null  object \n",
      " 12  Trip_Duration          19800 non-null  int64  \n",
      "dtypes: float64(2), int64(2), object(9)\n",
      "memory usage: 2.0+ MB\n"
     ]
    }
   ],
   "source": [
    "df=pd.read_csv(r'C:\\Users\\Bonareri\\Passenger_Satisfaction_Prediction\\notebook\\clean_data.csv')\n",
    "df.info()"
   ]
  },
  {
   "cell_type": "markdown",
   "id": "95acda10",
   "metadata": {},
   "source": [
    "#### Drop irrelevant columns"
   ]
  },
  {
   "cell_type": "code",
   "execution_count": 11,
   "id": "be718eca",
   "metadata": {},
   "outputs": [],
   "source": [
    "# 1. Drop irrelevant columns\n",
    "df = df.drop(columns=['Trip ID', 'User ID','Departure Date', 'Return Date' ,'Customer_Satisfaction'], axis=1)"
   ]
  },
  {
   "cell_type": "markdown",
   "id": "f8a25a3e",
   "metadata": {},
   "source": [
    "#### Separate features and target"
   ]
  },
  {
   "cell_type": "code",
   "execution_count": 12,
   "id": "963f4fb5",
   "metadata": {},
   "outputs": [],
   "source": [
    "# 3. Separate features and target\n",
    "X = df.drop(columns='Satisfaction_level', axis=1)\n",
    "y = df['Satisfaction_level']"
   ]
  },
  {
   "cell_type": "code",
   "execution_count": null,
   "id": "b01a514a",
   "metadata": {},
   "outputs": [],
   "source": [
    "# 4. Train_test split \n",
    "X_train, X_test, y_train, y_test = train_test_split(X, y, test_size=0.2, random_state=42)\n"
   ]
  },
  {
   "cell_type": "code",
   "execution_count": 17,
   "id": "c810c86a",
   "metadata": {},
   "outputs": [
    {
     "name": "stdout",
     "output_type": "stream",
     "text": [
      "<class 'pandas.core.frame.DataFrame'>\n",
      "RangeIndex: 19800 entries, 0 to 19799\n",
      "Data columns (total 8 columns):\n",
      " #   Column               Non-Null Count  Dtype  \n",
      "---  ------               --------------  -----  \n",
      " 0   Destination          19800 non-null  object \n",
      " 1   Travel Type          19800 non-null  object \n",
      " 2   Transportation Mode  19800 non-null  object \n",
      " 3   Hotel Rating         19800 non-null  int64  \n",
      " 4   Total Cost ($)       19800 non-null  float64\n",
      " 5   Satisfaction_level   19800 non-null  object \n",
      " 6   Departure Month      19800 non-null  object \n",
      " 7   Trip_Duration        19800 non-null  int64  \n",
      "dtypes: float64(1), int64(2), object(5)\n",
      "memory usage: 1.2+ MB\n"
     ]
    }
   ],
   "source": [
    "df.info()"
   ]
  },
  {
   "cell_type": "code",
   "execution_count": null,
   "id": "fd1321fe",
   "metadata": {},
   "outputs": [],
   "source": [
    "\n",
    "# 5. Preprocessing(Encoding and standardization)\n",
    "categorical_features = X.select_dtypes(include=['object']).columns\n",
    "numerical_features = X.select_dtypes(exclude=['object']).columns\n",
    "\n",
    "\n",
    "preprocessor = ColumnTransformer(\n",
    "    transformers=[\n",
    "        # Numerical: Imputation + Scaling\n",
    "        ('num', Pipeline([\n",
    "            ('imputer', SimpleImputer(strategy='mean')),\n",
    "            ('scaler', StandardScaler())\n",
    "        ]), numerical_features),\n",
    "        \n",
    "        # Categorical: Imputation + OneHotEncoding\n",
    "        ('cat', Pipeline([\n",
    "            ('imputer', SimpleImputer(strategy='most_frequent')),\n",
    "            ('onehot', OneHotEncoder(handle_unknown='ignore',drop='first'))\n",
    "        ]), categorical_features)\n",
    "    ]\n",
    ")"
   ]
  },
  {
   "cell_type": "code",
   "execution_count": null,
   "id": "315de481",
   "metadata": {},
   "outputs": [],
   "source": [
    "# 6. Model definitions\n",
    "models = {\n",
    "    'Logistic Regression': LogisticRegression(max_iter=1000),\n",
    "    'Decision Tree': DecisionTreeClassifier(),\n",
    "    'Random Forest': RandomForestClassifier(random_state=42),\n",
    "    'Gradient Boosting': GradientBoostingClassifier(),\n",
    "    'Naive Bayes': GaussianNB()\n",
    "}"
   ]
  },
  {
   "cell_type": "code",
   "execution_count": 25,
   "id": "650b049a",
   "metadata": {},
   "outputs": [
    {
     "data": {
      "text/plain": [
       "((15840, 7), (3960, 7))"
      ]
     },
     "execution_count": 25,
     "metadata": {},
     "output_type": "execute_result"
    }
   ],
   "source": [
    "X_train.shape, X_test.shape"
   ]
  },
  {
   "cell_type": "code",
   "execution_count": null,
   "id": "425b797e",
   "metadata": {},
   "outputs": [],
   "source": [
    "# 7. Train, Predict, and Evaluate each model\n",
    "for name, model in models.items():\n",
    "    print(f\"\\n--- {name} ---\")\n",
    "    \n",
    "    # Build pipeline (Preprocessing + Model)\n",
    "    \n",
    "    pipeline = Pipeline(steps=[\n",
    "        ('preprocessor', preprocessor),\n",
    "        ('classifier', model)\n",
    "    ])\n",
    "    \n",
    "    # Train Model\n",
    "    \n",
    "    pipeline.fit(X_train, y_train)\n",
    "    \n",
    "    # Predict on test set\n",
    "    y_pred = pipeline.predict(X_test)\n",
    "    \n",
    "    # Evaluation metrics\n",
    "    \n",
    "    print(\"Classification Report:\")\n",
    "    print(classification_report(y_test, y_pred))\n",
    "    \n",
    "    # Plot confusion matrix\n",
    "    conf_matrix = confusion_matrix(y_test, y_pred)\n",
    "    plt.figure(figsize=(6, 4))\n",
    "    sns.heatmap(conf_matrix, annot=True, cmap='Blues', fmt='d')\n",
    "    plt.title(f'Confusion Matrix - {name}')\n",
    "    plt.xlabel(\"Predicted\")\n",
    "    plt.ylabel(\"Actual\")\n",
    "    plt.show()"
   ]
  },
  {
   "cell_type": "code",
   "execution_count": null,
   "id": "6e62d967",
   "metadata": {},
   "outputs": [],
   "source": []
  }
 ],
 "metadata": {
  "kernelspec": {
   "display_name": "Python 3",
   "language": "python",
   "name": "python3"
  },
  "language_info": {
   "codemirror_mode": {
    "name": "ipython",
    "version": 3
   },
   "file_extension": ".py",
   "mimetype": "text/x-python",
   "name": "python",
   "nbconvert_exporter": "python",
   "pygments_lexer": "ipython3",
   "version": "3.11.13"
  }
 },
 "nbformat": 4,
 "nbformat_minor": 5
}
